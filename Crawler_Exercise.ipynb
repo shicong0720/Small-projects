{
  "nbformat": 4,
  "nbformat_minor": 0,
  "metadata": {
    "colab": {
      "provenance": []
    },
    "kernelspec": {
      "name": "python3",
      "display_name": "Python 3"
    },
    "language_info": {
      "name": "python"
    }
  },
  "cells": [
    {
      "cell_type": "code",
      "execution_count": null,
      "metadata": {
        "id": "H9qc3pbO7xIu"
      },
      "outputs": [],
      "source": [
        "from gevent import monkey\n",
        "monkey.patch_all()\n",
        "import gevent,requests, bs4, csv\n",
        "from gevent.queue import Queue\n",
        "\n",
        "work = Queue()\n",
        "url_1 = 'http://www.boohee.com/food/group/{type}?page={page}'\n",
        "for x in range(1, 4):\n",
        "    for y in range(1, 4):\n",
        "        real_url = url_1.format(type=x, page=y)\n",
        "        work.put_nowait(real_url)\n",
        "\n",
        "url_2 = 'http://www.boohee.com/food/view_menu?page={page}'\n",
        "for x in range(1,4):\n",
        "    real_url = url_2.format(page=x)\n",
        "    work.put_nowait(real_url)\n",
        "\n",
        "def crawler():\n",
        "    headers = {\n",
        "    'user-agent': 'Mozilla/5.0 (Windows NT 10.0; Win64; x64) AppleWebKit/537.36 (KHTML, like Gecko) Chrome/70.0.3538.110 Safari/537.36'\n",
        "    }\n",
        "    while not work.empty():\n",
        "        url = work.get_nowait()\n",
        "        res = requests.get(url, headers=headers)\n",
        "        bs_res = bs4.BeautifulSoup(res.text, 'html.parser')\n",
        "        foods = bs_res.find_all('li', class_='item clearfix')\n",
        "        for food in foods:\n",
        "            food_name = food.find_all('a')[1]['title']\n",
        "            food_url = 'http://www.boohee.com' + food.find_all('a')[1]['href']\n",
        "            food_calorie = food.find('p').text\n",
        "            writer.writerow([food_name, food_calorie, food_url])\n",
        "            #借助writerow()函数，把提取到的数据：食物名称、食物热量、食物详情链接，写入csv文件。\n",
        "            print(food_name)\n",
        "\n",
        "csv_file= open('boohee.csv', 'w', newline='')\n",
        "#调用open()函数打开csv文件，传入参数：文件名“boohee.csv”、写入模式“w”、newline=''。\n",
        "writer = csv.writer(csv_file)\n",
        "# 用csv.writer()函数创建一个writer对象。\n",
        "writer.writerow(['食物', '热量', '链接'])\n",
        "#借助writerow()函数往csv文件里写入文字：食物、热量、链接\n",
        "\n",
        "tasks_list = []\n",
        "for x in range(5):\n",
        "    task = gevent.spawn(crawler)\n",
        "    tasks_list.append(task)\n",
        "gevent.joinall(tasks_list)"
      ]
    }
  ]
}